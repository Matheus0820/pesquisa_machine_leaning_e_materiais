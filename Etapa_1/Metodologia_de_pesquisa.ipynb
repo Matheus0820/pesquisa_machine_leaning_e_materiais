{
  "nbformat": 4,
  "nbformat_minor": 0,
  "metadata": {
    "colab": {
      "provenance": [],
      "authorship_tag": "ABX9TyNxS9ne7Rt8KBzm9bHWNHCG",
      "include_colab_link": true
    },
    "kernelspec": {
      "name": "python3",
      "display_name": "Python 3"
    },
    "language_info": {
      "name": "python"
    }
  },
  "cells": [
    {
      "cell_type": "markdown",
      "metadata": {
        "id": "view-in-github",
        "colab_type": "text"
      },
      "source": [
        "<a href=\"https://colab.research.google.com/github/Matheus0820/pesquisa_machine_leaning_e_materiais/blob/main/Etapa_1/Metodologia_de_pesquisa.ipynb\" target=\"_parent\"><img src=\"https://colab.research.google.com/assets/colab-badge.svg\" alt=\"Open In Colab\"/></a>"
      ]
    },
    {
      "cell_type": "markdown",
      "source": [
        "![](https://www.opencadd.com.br/hubfs/Imported_Blog_Media/machine-redimensionado.jpg)\n",
        "\n",
        "# Metodologia de pesquisa\n",
        "## Etapas da pesquisa\n",
        "- Algoritmo K-means - Introdução\n",
        "- Algoritmo de Clustering Hierarchy\n",
        "- Algoritmo Principal Component Analysis (PCA)\n",
        "- Geração de parâmetros aleatório por comparação\n",
        "\n",
        "## Literatura Recomendada\n",
        "- Clustering Hierarchy: https://builtin.com/machine-learning/agglomerative-clustering\n",
        "\n",
        "- PCA: https://towardsdatascience.com/principal-component-analysis-made-easy-a-step-by-step-tutorial-184f295e97fe/\n",
        "\n",
        "## 1. Etapa 1 - Aplicação do Algoritmo K-means na Classificação de Filtros de Materiais em Ciência dos Materiais\n",
        "O objetivo desta primeira etapa é realizar uma análise dos dados obtidos em experimentos anteriores, utilizando algoritmos de Machine Learning. Será empregado um algoritmo simples de implementar, com o intuito de gerar classificações que possam contribuir para previsões e análises futuras.\n",
        "\n",
        "Na etapa seguinte, pretende-se aplicar parâmetros baseados nessas classificações, utilizando o conceito de centróides. Para cada agrupamento de dados (cluster), será definido um centróide correspondente, representando a média dos parâmetros daquele grupo. Esses novos conjuntos de parâmetros serão utilizados na fase experimental para a plotagem dos filtros sobre o material.\n",
        "\n",
        "Portanto, para formalizamos isso de uma melhor forma, será necerrário a capacitação dos pesquisadores para alguns conceitos utilizados na área de Machine Learning com objetivo de nivelar o conhecimento e otimizar o tempo de produção desses resultados.\n",
        "\n",
        "### 1.1 Iniciando em Machine Learning\n",
        "Para capacitar os pesquisadores envolvidos sugiro as seguintes leituras para o nivelamento de conhecimento:\n",
        "- O que é Machine Learning? - [Acesse aqui](https://developers.google.com/machine-learning/intro-to-ml/what-is-ml?hl=pt-br)\n",
        "- Algoritmos de Agrupamento - [Acesse aqui](https://developers-google-com.translate.goog/machine-learning/clustering/clustering-algorithms?_x_tr_sl=en&_x_tr_tl=pt&_x_tr_hl=pt&_x_tr_pto=wa)\n",
        "-  K-means clustering - [Acesse aqui](https://en.wikipedia.org/wiki/K-means_clustering) -  **Dica:** Traduza para português utilizando o google tradutor para páginas\n",
        "\n",
        "### 1.2 Criando primeiro algoritmo de agrupamento utilizando k-means\n",
        "Com base [NESSE VÍDEO](https://www.youtube.com/watch?v=H0qPhTd1Z5I), tente replicar o projeto exposto nele e entender o que é o k-means\n",
        "\n",
        "**OBS:** Documente tudo aqui no colab e jogue no seguinte repositório do github -> https://github.com/Matheus0820/pesquisa_machine_leaning_e_materiais\n",
        "\n",
        "### 1.3 Aprimorando o aprendizado em agrupamento com um desafio\n",
        "**Desafio:** Utilizando o algoritmo K-means, na linguagem de sua preferência (como Python), desenvolva um programa que divida os pontos do DataFrame abaixo em 3 clusters, com base nas distâncias entre eles.\n",
        "\n",
        "- Seu objetivo é:\n",
        "\n",
        "1. Aplicar o algoritmo de K-means para agrupar os dados em 3 clusters. Monte uma matriz de 9x9 que contenha as distâncias euclidianas de um ponto $i$ para um ponto $j$\n",
        "\n",
        "2. Plotar os pontos em um gráfico 2D, onde os pontos pertencentes ao mesmo cluster tenham a mesma cor.\n",
        "\n",
        "3. (Opcional) Exibir também os centróides dos clusters no gráfico, se desejar.\n",
        "\n",
        "**Dados que serão utilizados:**\n",
        "\n",
        "```\n",
        "dados = {\n",
        "    'Ponto': ['A', 'B', 'C', 'D', 'E', 'F', 'G', 'H', 'I'],\n",
        "    'x':     [1,   2,   1,   8,   9,   8,   4,   5,   5],\n",
        "    'y':     [2,   1,   1,   8,   8,   9,   5,   4,   5]\n",
        "}\n",
        "```\n",
        "\n",
        "\n",
        "\n"
      ],
      "metadata": {
        "id": "NY5OWTgTvdJe"
      }
    }
  ]
}