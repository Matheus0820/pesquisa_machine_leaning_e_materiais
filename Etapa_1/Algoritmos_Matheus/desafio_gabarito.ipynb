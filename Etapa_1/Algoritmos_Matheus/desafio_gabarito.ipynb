{
  "nbformat": 4,
  "nbformat_minor": 0,
  "metadata": {
    "colab": {
      "provenance": [],
      "authorship_tag": "ABX9TyPC3obKgx8TiV32mbGhWYp9",
      "include_colab_link": true
    },
    "kernelspec": {
      "name": "python3",
      "display_name": "Python 3"
    },
    "language_info": {
      "name": "python"
    }
  },
  "cells": [
    {
      "cell_type": "markdown",
      "metadata": {
        "id": "view-in-github",
        "colab_type": "text"
      },
      "source": [
        "<a href=\"https://colab.research.google.com/github/Matheus0820/pesquisa_machine_leaning_e_materiais/blob/main/Etapa_1/Algoritmos_Matheus/desafio_gabarito.ipynb\" target=\"_parent\"><img src=\"https://colab.research.google.com/assets/colab-badge.svg\" alt=\"Open In Colab\"/></a>"
      ]
    },
    {
      "cell_type": "markdown",
      "source": [
        "### Importações"
      ],
      "metadata": {
        "id": "303cAjBuEVU7"
      }
    },
    {
      "cell_type": "code",
      "execution_count": null,
      "metadata": {
        "id": "t8Naf0FBEPII"
      },
      "outputs": [],
      "source": [
        "import numpy as np\n",
        "import pandas as pd\n",
        "import matplotlib.pyplot as plt\n",
        "import random\n",
        "import time"
      ]
    },
    {
      "cell_type": "markdown",
      "source": [
        "### Criando dataframe"
      ],
      "metadata": {
        "id": "l6HVWgxAEbpU"
      }
    },
    {
      "cell_type": "code",
      "source": [
        "dados = {\n",
        "    'Ponto': ['A', 'B', 'C', 'D', 'E', 'F', 'G', 'H', 'I'],\n",
        "    'x':     [1,   2,   1,   8,   9,   8,   4,   5,   5],\n",
        "    'y':     [2,   1,   1,   8,   8,   9,   5,   4,   5]\n",
        "}\n",
        "\n",
        "df = pd.DataFrame(dados)\n",
        "print(\"Data frame do dados:\")\n",
        "print(df)\n",
        "\n",
        "print(\"\\nPlotagem de pontos em um gráfico\")\n",
        "plt.scatter(df['x'], df['y'])\n",
        "plt.title('Gráfico de Pontos - X vs Y')\n",
        "plt.xlabel('Eixo X')\n",
        "plt.ylabel('Eixo Y')\n",
        "plt.show()"
      ],
      "metadata": {
        "id": "Vs7xVhXtEidn",
        "colab": {
          "base_uri": "https://localhost:8080/",
          "height": 698
        },
        "outputId": "7d9cea4b-4af2-4fc2-888e-8fe8bfa3356e"
      },
      "execution_count": null,
      "outputs": [
        {
          "output_type": "stream",
          "name": "stdout",
          "text": [
            "Data frame do dados:\n",
            "  Ponto  x  y\n",
            "0     A  1  2\n",
            "1     B  2  1\n",
            "2     C  1  1\n",
            "3     D  8  8\n",
            "4     E  9  8\n",
            "5     F  8  9\n",
            "6     G  4  5\n",
            "7     H  5  4\n",
            "8     I  5  5\n",
            "\n",
            "Plotagem de pontos em um gráfico\n"
          ]
        },
        {
          "output_type": "display_data",
          "data": {
            "text/plain": [
              "<Figure size 640x480 with 1 Axes>"
            ],
            "image/png": "[encoded data removed]"
          },
          "metadata": {}
        }
      ]
    },
    {
      "cell_type": "markdown",
      "source": [
        "### Distância euclidiana"
      ],
      "metadata": {
        "id": "GzR6UBzEJsrl"
      }
    },
    {
      "cell_type": "code",
      "source": [
        "# Iniciando a matriz\n",
        "n = len(df)\n",
        "matrix_dist = np.zeros((n, n)) # É uma matriz quadrada, ou seja, ela relaciona n elementos com n elementos\n",
        "print(\"Matriz de zeros:\")\n",
        "print(matrix_dist)\n",
        "\n",
        "# Calculando as distâncias entre um ponto i até um ponto j\n",
        "for i in range(n):\n",
        "  for j in range(n):\n",
        "    matrix_dist[i][j] = np.sqrt((df['x'][i] - df['x'][j])**2 + (df['y'][i] - df['x'][j])**2)\n",
        "\n",
        "print(\"\\nMatriz de distâncias:\")\n",
        "print(matrix_dist)"
      ],
      "metadata": {
        "colab": {
          "base_uri": "https://localhost:8080/"
        },
        "id": "xLO-zBdPJr4D",
        "outputId": "8086371a-6137-40fe-a94d-c7136914e1ee"
      },
      "execution_count": null,
      "outputs": [
        {
          "output_type": "stream",
          "name": "stdout",
          "text": [
            "Matriz de zeros:\n",
            "[[0. 0. 0. 0. 0. 0. 0. 0. 0.]\n",
            " [0. 0. 0. 0. 0. 0. 0. 0. 0.]\n",
            " [0. 0. 0. 0. 0. 0. 0. 0. 0.]\n",
            " [0. 0. 0. 0. 0. 0. 0. 0. 0.]\n",
            " [0. 0. 0. 0. 0. 0. 0. 0. 0.]\n",
            " [0. 0. 0. 0. 0. 0. 0. 0. 0.]\n",
            " [0. 0. 0. 0. 0. 0. 0. 0. 0.]\n",
            " [0. 0. 0. 0. 0. 0. 0. 0. 0.]\n",
            " [0. 0. 0. 0. 0. 0. 0. 0. 0.]]\n",
            "\n",
            "Matriz de distâncias:\n",
            "[[ 1.          1.          1.          9.21954446 10.63014581  9.21954446\n",
            "   3.60555128  5.          5.        ]\n",
            " [ 1.          1.          1.          9.21954446 10.63014581  9.21954446\n",
            "   3.60555128  5.          5.        ]\n",
            " [ 0.          1.41421356  0.          9.89949494 11.3137085   9.89949494\n",
            "   4.24264069  5.65685425  5.65685425]\n",
            " [ 9.89949494  8.48528137  9.89949494  0.          1.41421356  0.\n",
            "   5.65685425  4.24264069  4.24264069]\n",
            " [10.63014581  9.21954446 10.63014581  1.          1.          1.\n",
            "   6.40312424  5.          5.        ]\n",
            " [10.63014581  9.21954446 10.63014581  1.          1.          1.\n",
            "   6.40312424  5.          5.        ]\n",
            " [ 5.          3.60555128  5.          5.          6.40312424  5.\n",
            "   1.          1.          1.        ]\n",
            " [ 5.          3.60555128  5.          5.          6.40312424  5.\n",
            "   1.          1.          1.        ]\n",
            " [ 5.65685425  4.24264069  5.65685425  4.24264069  5.65685425  4.24264069\n",
            "   1.41421356  0.          0.        ]]\n"
          ]
        }
      ]
    },
    {
      "cell_type": "markdown",
      "source": [
        "### Desenvolvimento pricipal do algoritmo"
      ],
      "metadata": {
        "id": "AxbAaQZwNQWb"
      }
    },
    {
      "cell_type": "code",
      "source": [
        "# Centroides\n",
        "centroides = np.zeros((3, 2)) # São 3 centroides de 2 dimensões (x, y)\n",
        "\n",
        "# Arrays de cluteres - Guarda as posições dos pontos as quais o pertence\n",
        "cluster_1 = []\n",
        "cluster_2 = []\n",
        "cluster_3 = []\n",
        "\n",
        "\n",
        "for i in range(3):\n",
        "  for j in range(2):\n",
        "    random.seed(time.time())\n",
        "    centroides[i][j] = random.randint(0, 10) # Defini coordenadas aleatórias para cada coordenada do centroide entre 0 e 10\n",
        "\n",
        "print(\"Centroides:\")\n",
        "print(centroides)\n",
        "\n",
        "# Recalculando centroides até que não haja uma mudança significativa\n",
        "interacoes_maximas = 100\n",
        "contador_interacoes = 0\n",
        "while True:\n",
        "  # zerando os clusteres\n",
        "  cluster_1 = []\n",
        "  cluster_2 = []\n",
        "  cluster_3 = []\n",
        "\n",
        "  # Matriz distância de um centroide i a um ponto j\n",
        "  matrix_dist_centroides = np.zeros((3, n)) # São 3 centroides\n",
        "  for i in range(3):\n",
        "    for j in range(n):\n",
        "      matrix_dist_centroides[i][j] = np.sqrt((centroides[i][0] - df['x'][j])**2 + (centroides[i][1] - df['y'][j])**2)\n",
        "\n",
        "\n",
        "  # Definindo cluster que cada ponto pertence\n",
        "  for i in range(n):\n",
        "    if matrix_dist_centroides[0][i] < matrix_dist_centroides[1][i] and matrix_dist_centroides[0][i] < matrix_dist_centroides[2][i]:\n",
        "      cluster_1.append(i)\n",
        "    elif matrix_dist_centroides[1][i] < matrix_dist_centroides[0][i] and matrix_dist_centroides[1][i] < matrix_dist_centroides[2][i]:\n",
        "      cluster_2.append(i)\n",
        "    elif matrix_dist_centroides[2][i] < matrix_dist_centroides[0][i] and matrix_dist_centroides[2][i] < matrix_dist_centroides[1][i]:\n",
        "      cluster_3.append(i)\n",
        "\n",
        "  centroides_antigos = centroides.copy()\n",
        "  # Recalculando centroides\n",
        "  for i in range(3):\n",
        "    for j in range(2):\n",
        "      centroides[i][j] = np.mean([df['x'][k] for k in eval(f'cluster_{i+1}')])\n",
        "\n",
        "  # Calculando se há diferença entre os centroides e verificando a quantidade de interações\n",
        "  contador_interacoes += 1\n",
        "  if np.allclose(centroides, centroides_antigos) or contador_interacoes >= interacoes_maximas:\n",
        "    break\n",
        "\n",
        "\n",
        "print(\"Centroides\")\n",
        "print(centroides)"
      ],
      "metadata": {
        "colab": {
          "base_uri": "https://localhost:8080/"
        },
        "id": "044hxGYaNXoo",
        "outputId": "62fd0e04-4780-4430-b647-d4e15fc6485a"
      },
      "execution_count": null,
      "outputs": [
        {
          "output_type": "stream",
          "name": "stdout",
          "text": [
            "Centroides:\n",
            "[[7. 4.]\n",
            " [7. 9.]\n",
            " [6. 6.]]\n",
            "Centroides\n",
            "[[1.33333333 1.33333333]\n",
            " [8.33333333 8.33333333]\n",
            " [4.66666667 4.66666667]]\n"
          ]
        }
      ]
    },
    {
      "cell_type": "markdown",
      "source": [
        "### Plotando Clusters e centroides"
      ],
      "metadata": {
        "id": "W9xtD54rqPJ1"
      }
    },
    {
      "cell_type": "code",
      "source": [
        "# Plotando centroide e Cluters\n",
        "\n",
        "# Cluster 1 e Centroide 1\n",
        "plt.scatter(df['x'][cluster_1], df['y'][cluster_1], color='blue', label='Cluster 1')\n",
        "plt.scatter(centroides[0][0], centroides[0][1], color='darkblue', marker='*', s=100, label='Centroide 1')\n",
        "\n",
        "# Cluster 2 e Centroide 2\n",
        "plt.scatter(df['x'][cluster_2], df['y'][cluster_2], color='green', label='Cluster 2')\n",
        "plt.scatter(centroides[1][0], centroides[1][1], color='darkgreen', marker='*', s=100, label='Centroide 2')\n",
        "\n",
        "# Cluster 3 e Centroide 3\n",
        "plt.scatter(df['x'][cluster_3], df['y'][cluster_3], color='red', label='Cluster 3')\n",
        "plt.scatter(centroides[2][0], centroides[2][1], color='darkred', marker='*', s=100, label='Centroide 3')\n",
        "\n",
        "plt.title('Clusters e Centroides')\n",
        "plt.xlabel('Eixo X')\n",
        "plt.ylabel('Eixo Y')\n",
        "plt.legend()\n",
        "plt.show()\n"
      ],
      "metadata": {
        "colab": {
          "base_uri": "https://localhost:8080/",
          "height": 472
        },
        "id": "EYoaiJdnqTiq",
        "outputId": "919fba63-eb93-4ab2-9774-7cdbd3a01e14"
      },
      "execution_count": null,
      "outputs": [
        {
          "output_type": "display_data",
          "data": {
            "text/plain": [
              "<Figure size 640x480 with 1 Axes>"
            ],
            "image/png": "[encoded data removed]"
          },
          "metadata": {}
        }
      ]
    }
  ]
}